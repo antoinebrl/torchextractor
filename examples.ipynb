{
 "cells": [
  {
   "cell_type": "code",
   "execution_count": 1,
   "id": "noticed-canadian",
   "metadata": {},
   "outputs": [],
   "source": [
    "%load_ext autoreload\n",
    "%autoreload 2"
   ]
  },
  {
   "cell_type": "code",
   "execution_count": 2,
   "id": "cathedral-washington",
   "metadata": {
    "scrolled": true
   },
   "outputs": [
    {
     "name": "stdout",
     "output_type": "stream",
     "text": [
      "Requirement already satisfied: torch in ./.env/lib/python3.6/site-packages (1.7.1)\n",
      "Requirement already satisfied: numpy in ./.env/lib/python3.6/site-packages (from torch) (1.19.5)\n",
      "Requirement already satisfied: typing-extensions in ./.env/lib/python3.6/site-packages (from torch) (3.7.4.3)\n",
      "Requirement already satisfied: dataclasses in ./.env/lib/python3.6/site-packages (from torch) (0.8)\n",
      "Requirement already satisfied: torchvision in ./.env/lib/python3.6/site-packages (0.8.2)\n",
      "Requirement already satisfied: pillow>=4.1.1 in ./.env/lib/python3.6/site-packages (from torchvision) (8.1.1)\n",
      "Requirement already satisfied: numpy in ./.env/lib/python3.6/site-packages (from torchvision) (1.19.5)\n",
      "Requirement already satisfied: torch==1.7.1 in ./.env/lib/python3.6/site-packages (from torchvision) (1.7.1)\n",
      "Requirement already satisfied: dataclasses in ./.env/lib/python3.6/site-packages (from torch==1.7.1->torchvision) (0.8)\n",
      "Requirement already satisfied: typing-extensions in ./.env/lib/python3.6/site-packages (from torch==1.7.1->torchvision) (3.7.4.3)\n",
      "Collecting git+https://github.com/antoinebrl/torchextractor.git\n",
      "  Cloning https://github.com/antoinebrl/torchextractor.git to /tmp/pip-req-build-zk1b_ums\n",
      "  Running command git clone -q https://github.com/antoinebrl/torchextractor.git /tmp/pip-req-build-zk1b_ums\n",
      "Requirement already satisfied: torch>=1.4 in ./.env/lib/python3.6/site-packages (from torchextractor==0.0.1) (1.7.1)\n",
      "Requirement already satisfied: dataclasses in ./.env/lib/python3.6/site-packages (from torch>=1.4->torchextractor==0.0.1) (0.8)\n",
      "Requirement already satisfied: numpy in ./.env/lib/python3.6/site-packages (from torch>=1.4->torchextractor==0.0.1) (1.19.5)\n",
      "Requirement already satisfied: typing-extensions in ./.env/lib/python3.6/site-packages (from torch>=1.4->torchextractor==0.0.1) (3.7.4.3)\n"
     ]
    }
   ],
   "source": [
    "!pip install torch\n",
    "!pip install torchvision\n",
    "!pip install git+https://github.com/antoinebrl/torchextractor.git"
   ]
  },
  {
   "cell_type": "code",
   "execution_count": 3,
   "id": "thick-secretariat",
   "metadata": {},
   "outputs": [],
   "source": [
    "import torch\n",
    "import torchvision\n",
    "import torchextractor as tx"
   ]
  },
  {
   "cell_type": "code",
   "execution_count": 4,
   "id": "accessory-pipeline",
   "metadata": {},
   "outputs": [],
   "source": [
    "model = torchvision.models.resnet18()\n",
    "dummy_input = torch.rand(7, 3, 224, 224)"
   ]
  },
  {
   "cell_type": "markdown",
   "id": "inside-disability",
   "metadata": {},
   "source": [
    "### List module names"
   ]
  },
  {
   "cell_type": "code",
   "execution_count": 5,
   "id": "sixth-copyright",
   "metadata": {
    "scrolled": true
   },
   "outputs": [
    {
     "name": "stdout",
     "output_type": "stream",
     "text": [
      "\n",
      "conv1\n",
      "bn1\n",
      "relu\n",
      "maxpool\n",
      "layer1\n",
      "layer1.0\n",
      "layer1.0.conv1\n",
      "layer1.0.bn1\n",
      "layer1.0.relu\n",
      "layer1.0.conv2\n",
      "layer1.0.bn2\n",
      "layer1.1\n",
      "layer1.1.conv1\n",
      "layer1.1.bn1\n",
      "layer1.1.relu\n",
      "layer1.1.conv2\n",
      "layer1.1.bn2\n",
      "layer2\n",
      "layer2.0\n",
      "layer2.0.conv1\n",
      "layer2.0.bn1\n",
      "layer2.0.relu\n",
      "layer2.0.conv2\n",
      "layer2.0.bn2\n",
      "layer2.0.downsample\n",
      "layer2.0.downsample.0\n",
      "layer2.0.downsample.1\n",
      "layer2.1\n",
      "layer2.1.conv1\n",
      "layer2.1.bn1\n",
      "layer2.1.relu\n",
      "layer2.1.conv2\n",
      "layer2.1.bn2\n",
      "layer3\n",
      "layer3.0\n",
      "layer3.0.conv1\n",
      "layer3.0.bn1\n",
      "layer3.0.relu\n",
      "layer3.0.conv2\n",
      "layer3.0.bn2\n",
      "layer3.0.downsample\n",
      "layer3.0.downsample.0\n",
      "layer3.0.downsample.1\n",
      "layer3.1\n",
      "layer3.1.conv1\n",
      "layer3.1.bn1\n",
      "layer3.1.relu\n",
      "layer3.1.conv2\n",
      "layer3.1.bn2\n",
      "layer4\n",
      "layer4.0\n",
      "layer4.0.conv1\n",
      "layer4.0.bn1\n",
      "layer4.0.relu\n",
      "layer4.0.conv2\n",
      "layer4.0.bn2\n",
      "layer4.0.downsample\n",
      "layer4.0.downsample.0\n",
      "layer4.0.downsample.1\n",
      "layer4.1\n",
      "layer4.1.conv1\n",
      "layer4.1.bn1\n",
      "layer4.1.relu\n",
      "layer4.1.conv2\n",
      "layer4.1.bn2\n",
      "avgpool\n",
      "fc\n"
     ]
    }
   ],
   "source": [
    "for name, module in model.named_modules():\n",
    "    print(name)"
   ]
  },
  {
   "cell_type": "markdown",
   "id": "prompt-castle",
   "metadata": {},
   "source": [
    "### Extract features"
   ]
  },
  {
   "cell_type": "code",
   "execution_count": 6,
   "id": "southeast-worship",
   "metadata": {},
   "outputs": [
    {
     "data": {
      "text/plain": [
       "{'layer1': torch.Size([7, 64, 56, 56]),\n",
       " 'layer2': torch.Size([7, 128, 28, 28]),\n",
       " 'layer3': torch.Size([7, 256, 14, 14]),\n",
       " 'layer4': torch.Size([7, 512, 7, 7])}"
      ]
     },
     "execution_count": 6,
     "metadata": {},
     "output_type": "execute_result"
    }
   ],
   "source": [
    "model = torchvision.models.resnet18()\n",
    "model = tx.Extractor(model, [\"layer1\", \"layer2\", \"layer3\", \"layer4\"])\n",
    "\n",
    "model_output, features = model(dummy_input)\n",
    "{name: f.shape for name, f in features.items()}"
   ]
  },
  {
   "cell_type": "markdown",
   "id": "failing-clear",
   "metadata": {},
   "source": [
    "### Extract features from nested modules"
   ]
  },
  {
   "cell_type": "code",
   "execution_count": 7,
   "id": "committed-costs",
   "metadata": {},
   "outputs": [
    {
     "data": {
      "text/plain": [
       "{'layer1': torch.Size([7, 64, 56, 56]),\n",
       " 'layer2.1.conv1': torch.Size([7, 128, 28, 28]),\n",
       " 'layer3.0.downsample.0': torch.Size([7, 256, 14, 14]),\n",
       " 'layer4.0': torch.Size([7, 512, 7, 7])}"
      ]
     },
     "execution_count": 7,
     "metadata": {},
     "output_type": "execute_result"
    }
   ],
   "source": [
    "model = torchvision.models.resnet18()\n",
    "model = tx.Extractor(model, [\"layer1\", \"layer2.1.conv1\", \"layer3.0.downsample.0\", \"layer4.0\"])\n",
    "\n",
    "model_output, features = model(dummy_input)\n",
    "{name: f.shape for name, f in features.items()}"
   ]
  },
  {
   "cell_type": "markdown",
   "id": "alike-reader",
   "metadata": {},
   "source": [
    "### Filter modules"
   ]
  },
  {
   "cell_type": "code",
   "execution_count": 8,
   "id": "independent-energy",
   "metadata": {},
   "outputs": [
    {
     "data": {
      "text/plain": [
       "{'conv1': torch.Size([7, 64, 112, 112]),\n",
       " 'layer1.0.conv1': torch.Size([7, 64, 56, 56]),\n",
       " 'layer1.0.conv2': torch.Size([7, 64, 56, 56]),\n",
       " 'layer1.1.conv1': torch.Size([7, 64, 56, 56]),\n",
       " 'layer1.1.conv2': torch.Size([7, 64, 56, 56]),\n",
       " 'layer2.0.conv1': torch.Size([7, 128, 28, 28]),\n",
       " 'layer2.0.conv2': torch.Size([7, 128, 28, 28]),\n",
       " 'layer2.0.downsample.0': torch.Size([7, 128, 28, 28]),\n",
       " 'layer2.1.conv1': torch.Size([7, 128, 28, 28]),\n",
       " 'layer2.1.conv2': torch.Size([7, 128, 28, 28]),\n",
       " 'layer3.0.conv1': torch.Size([7, 256, 14, 14]),\n",
       " 'layer3.0.conv2': torch.Size([7, 256, 14, 14]),\n",
       " 'layer3.0.downsample.0': torch.Size([7, 256, 14, 14]),\n",
       " 'layer3.1.conv1': torch.Size([7, 256, 14, 14]),\n",
       " 'layer3.1.conv2': torch.Size([7, 256, 14, 14]),\n",
       " 'layer4.0.conv1': torch.Size([7, 512, 7, 7]),\n",
       " 'layer4.0.conv2': torch.Size([7, 512, 7, 7]),\n",
       " 'layer4.0.downsample.0': torch.Size([7, 512, 7, 7]),\n",
       " 'layer4.1.conv1': torch.Size([7, 512, 7, 7]),\n",
       " 'layer4.1.conv2': torch.Size([7, 512, 7, 7])}"
      ]
     },
     "execution_count": 8,
     "metadata": {},
     "output_type": "execute_result"
    }
   ],
   "source": [
    "model = torchvision.models.resnet18()\n",
    "module_filter_fn = lambda module, name: isinstance(module, torch.nn.Conv2d)\n",
    "model = tx.Extractor(model, module_filter_fn=module_filter_fn)\n",
    "\n",
    "model_output, features = model(dummy_input)\n",
    "{name: f.shape for name, f in features.items()}"
   ]
  },
  {
   "cell_type": "markdown",
   "id": "stone-order",
   "metadata": {},
   "source": [
    "### ONNX export with named output nodes"
   ]
  },
  {
   "cell_type": "code",
   "execution_count": 9,
   "id": "framed-medicine",
   "metadata": {},
   "outputs": [],
   "source": [
    "model = torchvision.models.resnet18()\n",
    "model = tx.Extractor(model, [\"layer3\", \"layer4\"])\n",
    "\n",
    "torch.onnx.export(model, dummy_input, \"resnet.onnx\", output_names=[\"classifier\", \"layer3\", \"layer4\"])"
   ]
  },
  {
   "cell_type": "markdown",
   "id": "correct-glass",
   "metadata": {},
   "source": [
    "### JIT Tracing Trick"
   ]
  },
  {
   "cell_type": "code",
   "execution_count": 10,
   "id": "circular-movie",
   "metadata": {},
   "outputs": [],
   "source": [
    "model = torchvision.models.resnet18()\n",
    "\n",
    "# tx.Extractor is not compatible with variable number of arguments and\n",
    "# keyword-only arguments. The solution is to overwrite the `forward`\n",
    "# function of `tx.Extractor` to replicate the interface of the model.\n",
    "class MyExtractor(tx.Extractor):\n",
    "    def forward(self, x):\n",
    "        # ResNet take only one input\n",
    "        output = self.model(x)\n",
    "        return output, self.feature_maps\n",
    "\n",
    "model_traced = torch.jit.script(model)"
   ]
  }
 ],
 "metadata": {
  "kernelspec": {
   "display_name": "Python 3",
   "language": "python",
   "name": "python3"
  },
  "language_info": {
   "codemirror_mode": {
    "name": "ipython",
    "version": 3
   },
   "file_extension": ".py",
   "mimetype": "text/x-python",
   "name": "python",
   "nbconvert_exporter": "python",
   "pygments_lexer": "ipython3",
   "version": "3.6.9"
  }
 },
 "nbformat": 4,
 "nbformat_minor": 5
}
